{
  "nbformat": 4,
  "nbformat_minor": 0,
  "metadata": {
    "colab": {
      "name": "Asosiasi.ipynb",
      "version": "0.3.2",
      "provenance": [],
      "collapsed_sections": []
    },
    "kernelspec": {
      "name": "python3",
      "display_name": "Python 3"
    }
  },
  "cells": [
    {
      "cell_type": "code",
      "metadata": {
        "id": "DpmZAC32h7ot",
        "colab_type": "code",
        "colab": {}
      },
      "source": [
        "\n",
        "#import package\n",
        "\n",
        "from mlxtend.preprocessing import OnehotTransactions\n",
        "from mlxtend.frequent_patterns import apriori\n",
        "from mlxtend.frequent_patterns import association_rules\n",
        "import numpy as np\n",
        "import matplotlib.pyplot as plt\n",
        "import pandas as pd\n",
        "import seaborn as sns\n",
        "from sklearn.datasets.samples_generator import make_blobs\n",
        "from sklearn.cluster import KMeans\n",
        "plt.rcParams['figure.figsize'] = (16, 9)\n",
        "plt.style.use('ggplot')\n",
        "%matplotlib inline\n",
        "from copy import deepcopy\n",
        "from sklearn.preprocessing import LabelEncoder"
      ],
      "execution_count": 0,
      "outputs": []
    },
    {
      "cell_type": "code",
      "metadata": {
        "id": "D7XAZi7gh99j",
        "colab_type": "code",
        "outputId": "43eead60-9764-488b-a216-6b5077478ad7",
        "colab": {
          "base_uri": "https://localhost:8080/",
          "height": 204
        }
      },
      "source": [
        "#Open file\n",
        "data = pd.read_csv('Static Dataset Transaction - Burger Star (Outlet A) .csv')\n",
        "data.head()"
      ],
      "execution_count": 58,
      "outputs": [
        {
          "output_type": "execute_result",
          "data": {
            "text/html": [
              "<div>\n",
              "<style scoped>\n",
              "    .dataframe tbody tr th:only-of-type {\n",
              "        vertical-align: middle;\n",
              "    }\n",
              "\n",
              "    .dataframe tbody tr th {\n",
              "        vertical-align: top;\n",
              "    }\n",
              "\n",
              "    .dataframe thead th {\n",
              "        text-align: right;\n",
              "    }\n",
              "</style>\n",
              "<table border=\"1\" class=\"dataframe\">\n",
              "  <thead>\n",
              "    <tr style=\"text-align: right;\">\n",
              "      <th></th>\n",
              "      <th>Timestamp</th>\n",
              "      <th>Type Burger</th>\n",
              "      <th>Code Burger</th>\n",
              "      <th>Amount Burger</th>\n",
              "      <th>Type Drink</th>\n",
              "      <th>Code Drink</th>\n",
              "      <th>Amount Drink</th>\n",
              "      <th>Gender</th>\n",
              "      <th>Payment</th>\n",
              "    </tr>\n",
              "  </thead>\n",
              "  <tbody>\n",
              "    <tr>\n",
              "      <th>0</th>\n",
              "      <td>10:01</td>\n",
              "      <td>Beef burger</td>\n",
              "      <td>1</td>\n",
              "      <td>6</td>\n",
              "      <td>Mineral water</td>\n",
              "      <td>1</td>\n",
              "      <td>3</td>\n",
              "      <td>1</td>\n",
              "      <td>DANA</td>\n",
              "    </tr>\n",
              "    <tr>\n",
              "      <th>1</th>\n",
              "      <td>10:04</td>\n",
              "      <td>Cheese burger</td>\n",
              "      <td>3</td>\n",
              "      <td>12</td>\n",
              "      <td>Coke</td>\n",
              "      <td>2</td>\n",
              "      <td>10</td>\n",
              "      <td>0</td>\n",
              "      <td>DANA</td>\n",
              "    </tr>\n",
              "    <tr>\n",
              "      <th>2</th>\n",
              "      <td>10:05</td>\n",
              "      <td>Double cheese burger</td>\n",
              "      <td>4</td>\n",
              "      <td>10</td>\n",
              "      <td>Mineral water</td>\n",
              "      <td>1</td>\n",
              "      <td>5</td>\n",
              "      <td>0</td>\n",
              "      <td>LINK AJA</td>\n",
              "    </tr>\n",
              "    <tr>\n",
              "      <th>3</th>\n",
              "      <td>10:06</td>\n",
              "      <td>Chicken burger</td>\n",
              "      <td>2</td>\n",
              "      <td>9</td>\n",
              "      <td>Coffe</td>\n",
              "      <td>3</td>\n",
              "      <td>9</td>\n",
              "      <td>0</td>\n",
              "      <td>DANA</td>\n",
              "    </tr>\n",
              "    <tr>\n",
              "      <th>4</th>\n",
              "      <td>10:07</td>\n",
              "      <td>Cheese burger</td>\n",
              "      <td>3</td>\n",
              "      <td>11</td>\n",
              "      <td>Coke</td>\n",
              "      <td>2</td>\n",
              "      <td>3</td>\n",
              "      <td>1</td>\n",
              "      <td>DANA</td>\n",
              "    </tr>\n",
              "  </tbody>\n",
              "</table>\n",
              "</div>"
            ],
            "text/plain": [
              "  Timestamp           Type Burger  Code Burger  ...  Amount Drink Gender   Payment\n",
              "0     10:01           Beef burger            1  ...             3      1      DANA\n",
              "1     10:04         Cheese burger            3  ...            10      0      DANA\n",
              "2     10:05  Double cheese burger            4  ...             5      0  LINK AJA\n",
              "3     10:06        Chicken burger            2  ...             9      0      DANA\n",
              "4     10:07         Cheese burger            3  ...             3      1      DANA\n",
              "\n",
              "[5 rows x 9 columns]"
            ]
          },
          "metadata": {
            "tags": []
          },
          "execution_count": 58
        }
      ]
    },
    {
      "cell_type": "markdown",
      "metadata": {
        "id": "xOduSAzTkoGF",
        "colab_type": "text"
      },
      "source": [
        "# **Data Preparation**"
      ]
    },
    {
      "cell_type": "code",
      "metadata": {
        "id": "UJDMs7l-Gd9m",
        "colab_type": "code",
        "colab": {
          "base_uri": "https://localhost:8080/",
          "height": 34
        },
        "outputId": "23e045f5-4b53-4c3d-f747-c02403cbe953"
      },
      "source": [
        "#Data Dimension\n",
        "data.shape"
      ],
      "execution_count": 59,
      "outputs": [
        {
          "output_type": "execute_result",
          "data": {
            "text/plain": [
              "(312, 9)"
            ]
          },
          "metadata": {
            "tags": []
          },
          "execution_count": 59
        }
      ]
    },
    {
      "cell_type": "code",
      "metadata": {
        "id": "Hnbz8qkTkSMe",
        "colab_type": "code",
        "colab": {
          "base_uri": "https://localhost:8080/",
          "height": 1000
        },
        "outputId": "da5ea798-627e-4200-9dc3-9adc60860eef"
      },
      "source": [
        "data.info"
      ],
      "execution_count": 63,
      "outputs": [
        {
          "output_type": "execute_result",
          "data": {
            "text/plain": [
              "<bound method DataFrame.info of     Timestamp           Type Burger  ...  Gender   Payment\n",
              "0       10:01           Beef burger  ...       1      DANA\n",
              "1       10:04         Cheese burger  ...       0      DANA\n",
              "2       10:05  Double cheese burger  ...       0  LINK AJA\n",
              "3       10:06        Chicken burger  ...       0      DANA\n",
              "4       10:07         Cheese burger  ...       1      DANA\n",
              "5       10:08  Double cheese burger  ...       1      DANA\n",
              "6       10:09           Beef burger  ...       1     GOPAY\n",
              "7       10:11           Beef burger  ...       1     TUNAI\n",
              "8       10:12  Double cheese burger  ...       0     TUNAI\n",
              "9       10:16        Chicken burger  ...       0     TUNAI\n",
              "10      10:17         Cheese burger  ...       1      DANA\n",
              "11      10:19           Beef burger  ...       1       OVO\n",
              "12      10:20        Chicken burger  ...       0  LINK AJA\n",
              "13      10:24           Beef burger  ...       0     GOPAY\n",
              "14      10:25           Beef burger  ...       1       OVO\n",
              "15      10:26           Beef burger  ...       0     TUNAI\n",
              "16      10:33           Beef burger  ...       1     GOPAY\n",
              "17      10:37           Beef burger  ...       1      DANA\n",
              "18      10:38           Beef burger  ...       1  LINK AJA\n",
              "19      10:39        Chicken burger  ...       0  LINK AJA\n",
              "20      10:43         Cheese burger  ...       0  LINK AJA\n",
              "21      10:44  Double cheese burger  ...       0      DANA\n",
              "22      10:45  Double cheese burger  ...       0       OVO\n",
              "23      10:48  Double cheese burger  ...       0     GOPAY\n",
              "24      10:49           Beef burger  ...       0       OVO\n",
              "25      10:53        Chicken burger  ...       1     GOPAY\n",
              "26      10:54         Cheese burger  ...       0      DANA\n",
              "27      10:58  Double cheese burger  ...       1     TUNAI\n",
              "28      10:59           Beef burger  ...       1     GOPAY\n",
              "29      11:02  Double cheese burger  ...       0  LINK AJA\n",
              "..        ...                   ...  ...     ...       ...\n",
              "282     20:44           Beef burger  ...       0  LINK AJA\n",
              "283     20:46           Beef burger  ...       1  LINK AJA\n",
              "284     20:49           Beef burger  ...       1     TUNAI\n",
              "285     20:51  Double cheese burger  ...       0       OVO\n",
              "286     20:55        Chicken burger  ...       1     GOPAY\n",
              "287     20:58         Cheese burger  ...       0  LINK AJA\n",
              "288     21:00  Double cheese burger  ...       0     GOPAY\n",
              "289     21:02        Chicken burger  ...       0     TUNAI\n",
              "290     21:05         Cheese burger  ...       1       OVO\n",
              "291     21:07  Double cheese burger  ...       1     GOPAY\n",
              "292     21:09           Beef burger  ...       1      DANA\n",
              "293     21:12        Chicken burger  ...       0      DANA\n",
              "294     21:15           Beef burger  ...       1     GOPAY\n",
              "295     21:18  Double cheese burger  ...       0  LINK AJA\n",
              "296     21:20        Chicken burger  ...       1  LINK AJA\n",
              "297     21:22         Cheese burger  ...       0     TUNAI\n",
              "298     21:26  Double cheese burger  ...       0     GOPAY\n",
              "299     21:28        Chicken burger  ...       0     GOPAY\n",
              "300     21:30         Cheese burger  ...       1      DANA\n",
              "301     21:32  Double cheese burger  ...       1       OVO\n",
              "302     21:34           Beef burger  ...       1      DANA\n",
              "303     21:37        Chicken burger  ...       0     GOPAY\n",
              "304     21:39           Beef burger  ...       1       OVO\n",
              "305     21:41           Beef burger  ...       1     TUNAI\n",
              "306     21:44           Beef burger  ...       1     TUNAI\n",
              "307     21:47           Beef burger  ...       0     TUNAI\n",
              "308     21:50           Beef burger  ...       1     TUNAI\n",
              "309     21:53           Beef burger  ...       0      DANA\n",
              "310     21:55           Beef burger  ...       0      DANA\n",
              "311     21:57           Beef burger  ...       0     TUNAI\n",
              "\n",
              "[312 rows x 9 columns]>"
            ]
          },
          "metadata": {
            "tags": []
          },
          "execution_count": 63
        }
      ]
    },
    {
      "cell_type": "code",
      "metadata": {
        "id": "9pY5YEBKkeLD",
        "colab_type": "code",
        "colab": {
          "base_uri": "https://localhost:8080/",
          "height": 297
        },
        "outputId": "e1e4165b-9079-4aac-e179-66bda77e8945"
      },
      "source": [
        "#data.describe()"
      ],
      "execution_count": 65,
      "outputs": [
        {
          "output_type": "execute_result",
          "data": {
            "text/html": [
              "<div>\n",
              "<style scoped>\n",
              "    .dataframe tbody tr th:only-of-type {\n",
              "        vertical-align: middle;\n",
              "    }\n",
              "\n",
              "    .dataframe tbody tr th {\n",
              "        vertical-align: top;\n",
              "    }\n",
              "\n",
              "    .dataframe thead th {\n",
              "        text-align: right;\n",
              "    }\n",
              "</style>\n",
              "<table border=\"1\" class=\"dataframe\">\n",
              "  <thead>\n",
              "    <tr style=\"text-align: right;\">\n",
              "      <th></th>\n",
              "      <th>Code Burger</th>\n",
              "      <th>Amount Burger</th>\n",
              "      <th>Code Drink</th>\n",
              "      <th>Amount Drink</th>\n",
              "      <th>Gender</th>\n",
              "    </tr>\n",
              "  </thead>\n",
              "  <tbody>\n",
              "    <tr>\n",
              "      <th>count</th>\n",
              "      <td>312.000000</td>\n",
              "      <td>312.00000</td>\n",
              "      <td>312.000000</td>\n",
              "      <td>312.000000</td>\n",
              "      <td>312.000000</td>\n",
              "    </tr>\n",
              "    <tr>\n",
              "      <th>mean</th>\n",
              "      <td>2.250000</td>\n",
              "      <td>6.25000</td>\n",
              "      <td>1.637821</td>\n",
              "      <td>3.913462</td>\n",
              "      <td>0.451923</td>\n",
              "    </tr>\n",
              "    <tr>\n",
              "      <th>std</th>\n",
              "      <td>1.173803</td>\n",
              "      <td>3.45969</td>\n",
              "      <td>1.045698</td>\n",
              "      <td>2.960981</td>\n",
              "      <td>0.498483</td>\n",
              "    </tr>\n",
              "    <tr>\n",
              "      <th>min</th>\n",
              "      <td>1.000000</td>\n",
              "      <td>1.00000</td>\n",
              "      <td>0.000000</td>\n",
              "      <td>0.000000</td>\n",
              "      <td>0.000000</td>\n",
              "    </tr>\n",
              "    <tr>\n",
              "      <th>25%</th>\n",
              "      <td>1.000000</td>\n",
              "      <td>3.00000</td>\n",
              "      <td>1.000000</td>\n",
              "      <td>2.000000</td>\n",
              "      <td>0.000000</td>\n",
              "    </tr>\n",
              "    <tr>\n",
              "      <th>50%</th>\n",
              "      <td>2.000000</td>\n",
              "      <td>6.00000</td>\n",
              "      <td>2.000000</td>\n",
              "      <td>3.000000</td>\n",
              "      <td>0.000000</td>\n",
              "    </tr>\n",
              "    <tr>\n",
              "      <th>75%</th>\n",
              "      <td>3.000000</td>\n",
              "      <td>9.00000</td>\n",
              "      <td>3.000000</td>\n",
              "      <td>5.000000</td>\n",
              "      <td>1.000000</td>\n",
              "    </tr>\n",
              "    <tr>\n",
              "      <th>max</th>\n",
              "      <td>4.000000</td>\n",
              "      <td>12.00000</td>\n",
              "      <td>3.000000</td>\n",
              "      <td>10.000000</td>\n",
              "      <td>1.000000</td>\n",
              "    </tr>\n",
              "  </tbody>\n",
              "</table>\n",
              "</div>"
            ],
            "text/plain": [
              "       Code Burger  Amount Burger  Code Drink  Amount Drink      Gender\n",
              "count   312.000000      312.00000  312.000000    312.000000  312.000000\n",
              "mean      2.250000        6.25000    1.637821      3.913462    0.451923\n",
              "std       1.173803        3.45969    1.045698      2.960981    0.498483\n",
              "min       1.000000        1.00000    0.000000      0.000000    0.000000\n",
              "25%       1.000000        3.00000    1.000000      2.000000    0.000000\n",
              "50%       2.000000        6.00000    2.000000      3.000000    0.000000\n",
              "75%       3.000000        9.00000    3.000000      5.000000    1.000000\n",
              "max       4.000000       12.00000    3.000000     10.000000    1.000000"
            ]
          },
          "metadata": {
            "tags": []
          },
          "execution_count": 65
        }
      ]
    },
    {
      "cell_type": "code",
      "metadata": {
        "id": "XTXPi07ykV49",
        "colab_type": "code",
        "colab": {
          "base_uri": "https://localhost:8080/",
          "height": 328
        },
        "outputId": "12c85ac8-420d-4ef4-aad4-5364facd37df"
      },
      "source": [
        "# Check Missing Values\n",
        "\n",
        "sum_null = data.isnull().sum()\n",
        "sum_null = pd.DataFrame(sum_null,columns=['null'])\n",
        "j=1\n",
        "sum_tot = len(data)\n",
        "sum_null['percent']=sum_null['null']/sum_tot\n",
        "round(sum_null,3).sort_values('percent', ascending=False)"
      ],
      "execution_count": 67,
      "outputs": [
        {
          "output_type": "execute_result",
          "data": {
            "text/html": [
              "<div>\n",
              "<style scoped>\n",
              "    .dataframe tbody tr th:only-of-type {\n",
              "        vertical-align: middle;\n",
              "    }\n",
              "\n",
              "    .dataframe tbody tr th {\n",
              "        vertical-align: top;\n",
              "    }\n",
              "\n",
              "    .dataframe thead th {\n",
              "        text-align: right;\n",
              "    }\n",
              "</style>\n",
              "<table border=\"1\" class=\"dataframe\">\n",
              "  <thead>\n",
              "    <tr style=\"text-align: right;\">\n",
              "      <th></th>\n",
              "      <th>null</th>\n",
              "      <th>percent</th>\n",
              "    </tr>\n",
              "  </thead>\n",
              "  <tbody>\n",
              "    <tr>\n",
              "      <th>Timestamp</th>\n",
              "      <td>0</td>\n",
              "      <td>0.0</td>\n",
              "    </tr>\n",
              "    <tr>\n",
              "      <th>Type Burger</th>\n",
              "      <td>0</td>\n",
              "      <td>0.0</td>\n",
              "    </tr>\n",
              "    <tr>\n",
              "      <th>Code Burger</th>\n",
              "      <td>0</td>\n",
              "      <td>0.0</td>\n",
              "    </tr>\n",
              "    <tr>\n",
              "      <th>Amount Burger</th>\n",
              "      <td>0</td>\n",
              "      <td>0.0</td>\n",
              "    </tr>\n",
              "    <tr>\n",
              "      <th>Type Drink</th>\n",
              "      <td>0</td>\n",
              "      <td>0.0</td>\n",
              "    </tr>\n",
              "    <tr>\n",
              "      <th>Code Drink</th>\n",
              "      <td>0</td>\n",
              "      <td>0.0</td>\n",
              "    </tr>\n",
              "    <tr>\n",
              "      <th>Amount Drink</th>\n",
              "      <td>0</td>\n",
              "      <td>0.0</td>\n",
              "    </tr>\n",
              "    <tr>\n",
              "      <th>Gender</th>\n",
              "      <td>0</td>\n",
              "      <td>0.0</td>\n",
              "    </tr>\n",
              "    <tr>\n",
              "      <th>Payment</th>\n",
              "      <td>0</td>\n",
              "      <td>0.0</td>\n",
              "    </tr>\n",
              "  </tbody>\n",
              "</table>\n",
              "</div>"
            ],
            "text/plain": [
              "               null  percent\n",
              "Timestamp         0      0.0\n",
              "Type Burger       0      0.0\n",
              "Code Burger       0      0.0\n",
              "Amount Burger     0      0.0\n",
              "Type Drink        0      0.0\n",
              "Code Drink        0      0.0\n",
              "Amount Drink      0      0.0\n",
              "Gender            0      0.0\n",
              "Payment           0      0.0"
            ]
          },
          "metadata": {
            "tags": []
          },
          "execution_count": 67
        }
      ]
    },
    {
      "cell_type": "markdown",
      "metadata": {
        "id": "mELcuEM-k27S",
        "colab_type": "text"
      },
      "source": [
        "# **Data Visualization**"
      ]
    },
    {
      "cell_type": "code",
      "metadata": {
        "id": "nkKq-psBk02K",
        "colab_type": "code",
        "colab": {}
      },
      "source": [
        ""
      ],
      "execution_count": 0,
      "outputs": []
    },
    {
      "cell_type": "code",
      "metadata": {
        "id": "mK3YVburufbw",
        "colab_type": "code",
        "colab": {
          "base_uri": "https://localhost:8080/",
          "height": 503
        },
        "outputId": "6faed827-5eaf-489d-bffa-b921c7391f82"
      },
      "source": [
        "#create correlation with hitmap\n",
        "\n",
        "#from this correlation, we know the value percentages of the correlation(1 or -1). The bigger value, so the correlation has big value too.\n",
        "#weather has big correlation with the lattitude (-0,78). \n",
        "\n",
        "#create correlation\n",
        "corr = data.corr(method = 'pearson')\n",
        "\n",
        "#convert correlation to numpy array\n",
        "mask = np.array(corr)\n",
        "\n",
        "#to mask the repetitive value for each pair\n",
        "mask[np.tril_indices_from(mask)] = False\n",
        "fig, ax = plt.subplots(figsize = (10,12))\n",
        "fig.set_size_inches(18,8)\n",
        "sns.heatmap(corr, mask = mask, vmax = 0.9, square = True, annot = True)"
      ],
      "execution_count": 66,
      "outputs": [
        {
          "output_type": "execute_result",
          "data": {
            "text/plain": [
              "<matplotlib.axes._subplots.AxesSubplot at 0x7f9636a80ba8>"
            ]
          },
          "metadata": {
            "tags": []
          },
          "execution_count": 66
        },
        {
          "output_type": "display_data",
          "data": {
            "image/png": "[encoded data removed]",
            "text/plain": [
              "<Figure size 1296x576 with 2 Axes>"
            ]
          },
          "metadata": {
            "tags": []
          }
        }
      ]
    },
    {
      "cell_type": "code",
      "metadata": {
        "id": "PYYZTtRzHtZ5",
        "colab_type": "code",
        "colab": {
          "base_uri": "https://localhost:8080/",
          "height": 471
        },
        "outputId": "70939f0e-43ac-4269-828d-fb90e24ef71d"
      },
      "source": [
        "data['Type Burger'].value_counts().nlargest(100).plot(kind='bar', figsize=(10,5))\n",
        "plt.title('Number of Burger by Type Burger')\n",
        "plt.ylabel('Number of Burger')\n",
        "plt.xlabel('Type of Burger')"
      ],
      "execution_count": 16,
      "outputs": [
        {
          "output_type": "execute_result",
          "data": {
            "text/plain": [
              "Text(0.5, 0, 'Type of Burger')"
            ]
          },
          "metadata": {
            "tags": []
          },
          "execution_count": 16
        },
        {
          "output_type": "display_data",
          "data": {
            "image/png": "[encoded data removed]",
            "text/plain": [
              "<Figure size 720x360 with 1 Axes>"
            ]
          },
          "metadata": {
            "tags": []
          }
        }
      ]
    },
    {
      "cell_type": "markdown",
      "metadata": {
        "id": "ykCuJRwUHyEs",
        "colab_type": "text"
      },
      "source": [
        ""
      ]
    },
    {
      "cell_type": "code",
      "metadata": {
        "id": "xxO-eD1PH-h6",
        "colab_type": "code",
        "colab": {
          "base_uri": "https://localhost:8080/",
          "height": 429
        },
        "outputId": "f0b87f98-427c-40fe-ecee-6936f8b794fd"
      },
      "source": [
        "data['Type Drink'].value_counts().nlargest(100).plot(kind='bar', figsize=(10,5))\n",
        "plt.title('Number of Drink by Type Drink')\n",
        "plt.ylabel('Number of Drink')\n",
        "plt.xlabel('Type of Drink')"
      ],
      "execution_count": 17,
      "outputs": [
        {
          "output_type": "execute_result",
          "data": {
            "text/plain": [
              "Text(0.5, 0, 'Type of Drink')"
            ]
          },
          "metadata": {
            "tags": []
          },
          "execution_count": 17
        },
        {
          "output_type": "display_data",
          "data": {
            "image/png": "[encoded data removed]",
            "text/plain": [
              "<Figure size 720x360 with 1 Axes>"
            ]
          },
          "metadata": {
            "tags": []
          }
        }
      ]
    },
    {
      "cell_type": "code",
      "metadata": {
        "id": "2YopLX-xAObB",
        "colab_type": "code",
        "colab": {
          "base_uri": "https://localhost:8080/",
          "height": 367
        },
        "outputId": "2360c294-632f-4675-bdcd-91ceaac1a0d0"
      },
      "source": [
        "data['Gender'].value_counts().nlargest(100).plot(kind='bar', figsize=(10,5))\n",
        "plt.title('Number of Burger by Gender')\n",
        "plt.ylabel('Number of Burger')\n",
        "plt.xlabel('Type of Gender')"
      ],
      "execution_count": 18,
      "outputs": [
        {
          "output_type": "execute_result",
          "data": {
            "text/plain": [
              "Text(0.5, 0, 'Type of Gender')"
            ]
          },
          "metadata": {
            "tags": []
          },
          "execution_count": 18
        },
        {
          "output_type": "display_data",
          "data": {
            "image/png": "[encoded data removed]",
            "text/plain": [
              "<Figure size 720x360 with 1 Axes>"
            ]
          },
          "metadata": {
            "tags": []
          }
        }
      ]
    },
    {
      "cell_type": "code",
      "metadata": {
        "id": "GhoIfd0rBSTC",
        "colab_type": "code",
        "outputId": "e54a0c05-5b27-4fd9-fe9b-ed0ec22180dd",
        "colab": {
          "base_uri": "https://localhost:8080/",
          "height": 299
        }
      },
      "source": [
        "barplot = data['Gender'].value_counts().plot(kind='bar');\n",
        "plt.xlabel('Gender')\n",
        "plt.ylabel('count')"
      ],
      "execution_count": 0,
      "outputs": [
        {
          "output_type": "execute_result",
          "data": {
            "text/plain": [
              "Text(0, 0.5, 'count')"
            ]
          },
          "metadata": {
            "tags": []
          },
          "execution_count": 6
        },
        {
          "output_type": "display_data",
          "data": {
            "image/png": "[encoded data removed]",
            "text/plain": [
              "<Figure size 432x288 with 1 Axes>"
            ]
          },
          "metadata": {
            "tags": []
          }
        }
      ]
    },
    {
      "cell_type": "code",
      "metadata": {
        "id": "nUPCMSvHBbtb",
        "colab_type": "code",
        "colab": {
          "base_uri": "https://localhost:8080/",
          "height": 403
        },
        "outputId": "9a2f5264-0c2c-4e8d-c591-96f4f3acb25e"
      },
      "source": [
        "data['Payment'].value_counts().nlargest(100).plot(kind='bar', figsize=(10,5))\n",
        "plt.title('Number of Payment')\n",
        "plt.ylabel('Number of Payment')\n",
        "plt.xlabel('Type of Payment')"
      ],
      "execution_count": 19,
      "outputs": [
        {
          "output_type": "execute_result",
          "data": {
            "text/plain": [
              "Text(0.5, 0, 'Type of Payment')"
            ]
          },
          "metadata": {
            "tags": []
          },
          "execution_count": 19
        },
        {
          "output_type": "display_data",
          "data": {
            "image/png": "[encoded data removed]",
            "text/plain": [
              "<Figure size 720x360 with 1 Axes>"
            ]
          },
          "metadata": {
            "tags": []
          }
        }
      ]
    },
    {
      "cell_type": "code",
      "metadata": {
        "id": "87TXFj6cIdJi",
        "colab_type": "code",
        "colab": {
          "base_uri": "https://localhost:8080/",
          "height": 303
        },
        "outputId": "f476f116-ef4c-40d5-e337-ebd4877fbd63"
      },
      "source": [
        "sns.regplot(data['Amount Burger'],data['Amount Drink'],fit_reg=True)"
      ],
      "execution_count": 28,
      "outputs": [
        {
          "output_type": "execute_result",
          "data": {
            "text/plain": [
              "<matplotlib.axes._subplots.AxesSubplot at 0x7f9636f85710>"
            ]
          },
          "metadata": {
            "tags": []
          },
          "execution_count": 28
        },
        {
          "output_type": "display_data",
          "data": {
            "image/png": "[encoded data removed]",
            "text/plain": [
              "<Figure size 432x288 with 1 Axes>"
            ]
          },
          "metadata": {
            "tags": []
          }
        }
      ]
    },
    {
      "cell_type": "code",
      "metadata": {
        "id": "22IhJ_3hJF8z",
        "colab_type": "code",
        "colab": {}
      },
      "source": [
        "data['Jam'] = data['Timestamp'].replace(r':\\d\\d', \"\",regex=True)"
      ],
      "execution_count": 0,
      "outputs": []
    },
    {
      "cell_type": "code",
      "metadata": {
        "id": "TUdpXTBGJK1I",
        "colab_type": "code",
        "colab": {
          "base_uri": "https://localhost:8080/",
          "height": 204
        },
        "outputId": "c58aaa72-cbf4-4d9e-c496-15d3366cd374"
      },
      "source": [
        "data['Jam']=data['Jam'].astype('int')\n",
        "data.head()"
      ],
      "execution_count": 32,
      "outputs": [
        {
          "output_type": "execute_result",
          "data": {
            "text/html": [
              "<div>\n",
              "<style scoped>\n",
              "    .dataframe tbody tr th:only-of-type {\n",
              "        vertical-align: middle;\n",
              "    }\n",
              "\n",
              "    .dataframe tbody tr th {\n",
              "        vertical-align: top;\n",
              "    }\n",
              "\n",
              "    .dataframe thead th {\n",
              "        text-align: right;\n",
              "    }\n",
              "</style>\n",
              "<table border=\"1\" class=\"dataframe\">\n",
              "  <thead>\n",
              "    <tr style=\"text-align: right;\">\n",
              "      <th></th>\n",
              "      <th>Timestamp</th>\n",
              "      <th>Type Burger</th>\n",
              "      <th>Code Burger</th>\n",
              "      <th>Amount Burger</th>\n",
              "      <th>Type Drink</th>\n",
              "      <th>Code Drink</th>\n",
              "      <th>Amount Drink</th>\n",
              "      <th>Gender</th>\n",
              "      <th>Payment</th>\n",
              "      <th>campur</th>\n",
              "      <th>Jam</th>\n",
              "    </tr>\n",
              "  </thead>\n",
              "  <tbody>\n",
              "    <tr>\n",
              "      <th>0</th>\n",
              "      <td>10:01</td>\n",
              "      <td>Beef burger</td>\n",
              "      <td>1</td>\n",
              "      <td>6</td>\n",
              "      <td>Mineral water</td>\n",
              "      <td>1</td>\n",
              "      <td>3</td>\n",
              "      <td>1</td>\n",
              "      <td>DANA</td>\n",
              "      <td>[Beef burger, Mineral water]</td>\n",
              "      <td>10</td>\n",
              "    </tr>\n",
              "    <tr>\n",
              "      <th>1</th>\n",
              "      <td>10:04</td>\n",
              "      <td>Cheese burger</td>\n",
              "      <td>3</td>\n",
              "      <td>12</td>\n",
              "      <td>Coke</td>\n",
              "      <td>2</td>\n",
              "      <td>10</td>\n",
              "      <td>0</td>\n",
              "      <td>DANA</td>\n",
              "      <td>[Cheese burger, Coke]</td>\n",
              "      <td>10</td>\n",
              "    </tr>\n",
              "    <tr>\n",
              "      <th>2</th>\n",
              "      <td>10:05</td>\n",
              "      <td>Double cheese burger</td>\n",
              "      <td>4</td>\n",
              "      <td>10</td>\n",
              "      <td>Mineral water</td>\n",
              "      <td>1</td>\n",
              "      <td>5</td>\n",
              "      <td>0</td>\n",
              "      <td>LINK AJA</td>\n",
              "      <td>[Double cheese burger, Mineral water]</td>\n",
              "      <td>10</td>\n",
              "    </tr>\n",
              "    <tr>\n",
              "      <th>3</th>\n",
              "      <td>10:06</td>\n",
              "      <td>Chicken burger</td>\n",
              "      <td>2</td>\n",
              "      <td>9</td>\n",
              "      <td>Coffe</td>\n",
              "      <td>3</td>\n",
              "      <td>9</td>\n",
              "      <td>0</td>\n",
              "      <td>DANA</td>\n",
              "      <td>[Chicken burger, Coffe]</td>\n",
              "      <td>10</td>\n",
              "    </tr>\n",
              "    <tr>\n",
              "      <th>4</th>\n",
              "      <td>10:07</td>\n",
              "      <td>Cheese burger</td>\n",
              "      <td>3</td>\n",
              "      <td>11</td>\n",
              "      <td>Coke</td>\n",
              "      <td>2</td>\n",
              "      <td>3</td>\n",
              "      <td>1</td>\n",
              "      <td>DANA</td>\n",
              "      <td>[Cheese burger, Coke]</td>\n",
              "      <td>10</td>\n",
              "    </tr>\n",
              "  </tbody>\n",
              "</table>\n",
              "</div>"
            ],
            "text/plain": [
              "  Timestamp           Type Burger  ...                                 campur  Jam\n",
              "0     10:01           Beef burger  ...           [Beef burger, Mineral water]   10\n",
              "1     10:04         Cheese burger  ...                  [Cheese burger, Coke]   10\n",
              "2     10:05  Double cheese burger  ...  [Double cheese burger, Mineral water]   10\n",
              "3     10:06        Chicken burger  ...                [Chicken burger, Coffe]   10\n",
              "4     10:07         Cheese burger  ...                  [Cheese burger, Coke]   10\n",
              "\n",
              "[5 rows x 11 columns]"
            ]
          },
          "metadata": {
            "tags": []
          },
          "execution_count": 32
        }
      ]
    },
    {
      "cell_type": "code",
      "metadata": {
        "id": "VDgj6VWaJL9S",
        "colab_type": "code",
        "colab": {
          "base_uri": "https://localhost:8080/",
          "height": 452
        },
        "outputId": "e1c7b148-5739-4e9a-d9fa-037e99dfa3a9"
      },
      "source": [
        "time = []\n",
        "a = []\n",
        "\n",
        "for i in range(10,22):\n",
        "    a.append(len(data[(data['Jam']==i)]))\n",
        "    time.append(i)\n",
        "new=pd.DataFrame()\n",
        "new['time']=time\n",
        "new['count']=a\n",
        "new.index=new['time']\n",
        "new=new.drop('time',1)\n",
        "new"
      ],
      "execution_count": 34,
      "outputs": [
        {
          "output_type": "execute_result",
          "data": {
            "text/html": [
              "<div>\n",
              "<style scoped>\n",
              "    .dataframe tbody tr th:only-of-type {\n",
              "        vertical-align: middle;\n",
              "    }\n",
              "\n",
              "    .dataframe tbody tr th {\n",
              "        vertical-align: top;\n",
              "    }\n",
              "\n",
              "    .dataframe thead th {\n",
              "        text-align: right;\n",
              "    }\n",
              "</style>\n",
              "<table border=\"1\" class=\"dataframe\">\n",
              "  <thead>\n",
              "    <tr style=\"text-align: right;\">\n",
              "      <th></th>\n",
              "      <th>count</th>\n",
              "    </tr>\n",
              "    <tr>\n",
              "      <th>time</th>\n",
              "      <th></th>\n",
              "    </tr>\n",
              "  </thead>\n",
              "  <tbody>\n",
              "    <tr>\n",
              "      <th>10</th>\n",
              "      <td>29</td>\n",
              "    </tr>\n",
              "    <tr>\n",
              "      <th>11</th>\n",
              "      <td>40</td>\n",
              "    </tr>\n",
              "    <tr>\n",
              "      <th>12</th>\n",
              "      <td>25</td>\n",
              "    </tr>\n",
              "    <tr>\n",
              "      <th>13</th>\n",
              "      <td>24</td>\n",
              "    </tr>\n",
              "    <tr>\n",
              "      <th>14</th>\n",
              "      <td>23</td>\n",
              "    </tr>\n",
              "    <tr>\n",
              "      <th>15</th>\n",
              "      <td>21</td>\n",
              "    </tr>\n",
              "    <tr>\n",
              "      <th>16</th>\n",
              "      <td>19</td>\n",
              "    </tr>\n",
              "    <tr>\n",
              "      <th>17</th>\n",
              "      <td>25</td>\n",
              "    </tr>\n",
              "    <tr>\n",
              "      <th>18</th>\n",
              "      <td>32</td>\n",
              "    </tr>\n",
              "    <tr>\n",
              "      <th>19</th>\n",
              "      <td>29</td>\n",
              "    </tr>\n",
              "    <tr>\n",
              "      <th>20</th>\n",
              "      <td>21</td>\n",
              "    </tr>\n",
              "    <tr>\n",
              "      <th>21</th>\n",
              "      <td>24</td>\n",
              "    </tr>\n",
              "  </tbody>\n",
              "</table>\n",
              "</div>"
            ],
            "text/plain": [
              "      count\n",
              "time       \n",
              "10       29\n",
              "11       40\n",
              "12       25\n",
              "13       24\n",
              "14       23\n",
              "15       21\n",
              "16       19\n",
              "17       25\n",
              "18       32\n",
              "19       29\n",
              "20       21\n",
              "21       24"
            ]
          },
          "metadata": {
            "tags": []
          },
          "execution_count": 34
        }
      ]
    },
    {
      "cell_type": "code",
      "metadata": {
        "id": "VOSui4JRJS6V",
        "colab_type": "code",
        "colab": {
          "base_uri": "https://localhost:8080/",
          "height": 354
        },
        "outputId": "4876039e-5594-4ec6-c414-877d7c4773a0"
      },
      "source": [
        "plt.style.use('ggplot')\n",
        "plt.figure(figsize=(12,5))\n",
        "plt.title('Banyaknya Pengunjung per Jam')\n",
        "plt.plot(new)"
      ],
      "execution_count": 35,
      "outputs": [
        {
          "output_type": "execute_result",
          "data": {
            "text/plain": [
              "[<matplotlib.lines.Line2D at 0x7f9636f2a0b8>]"
            ]
          },
          "metadata": {
            "tags": []
          },
          "execution_count": 35
        },
        {
          "output_type": "display_data",
          "data": {
            "image/png": "[encoded data removed]",
            "text/plain": [
              "<Figure size 864x360 with 1 Axes>"
            ]
          },
          "metadata": {
            "tags": []
          }
        }
      ]
    },
    {
      "cell_type": "markdown",
      "metadata": {
        "id": "_HUsZVgLIoUe",
        "colab_type": "text"
      },
      "source": [
        "# **Modelling: Association using Apriori**"
      ]
    },
    {
      "cell_type": "code",
      "metadata": {
        "id": "I6jd_Gcgj4RN",
        "colab_type": "code",
        "colab": {
          "base_uri": "https://localhost:8080/",
          "height": 119
        },
        "outputId": "59fab1e2-27cd-48cc-d46a-84c27c42253a"
      },
      "source": [
        "data['campur'] = data[['Type Burger','Type Drink']].values.tolist()\n",
        "data['campur'].head()"
      ],
      "execution_count": 22,
      "outputs": [
        {
          "output_type": "execute_result",
          "data": {
            "text/plain": [
              "0             [Beef burger, Mineral water]\n",
              "1                    [Cheese burger, Coke]\n",
              "2    [Double cheese burger, Mineral water]\n",
              "3                  [Chicken burger, Coffe]\n",
              "4                    [Cheese burger, Coke]\n",
              "Name: campur, dtype: object"
            ]
          },
          "metadata": {
            "tags": []
          },
          "execution_count": 22
        }
      ]
    },
    {
      "cell_type": "code",
      "metadata": {
        "id": "ZyTTgtm7ifNr",
        "colab_type": "code",
        "outputId": "e32dac4d-d304-4cde-dcb2-2490968cf63f",
        "colab": {
          "base_uri": "https://localhost:8080/",
          "height": 607
        }
      },
      "source": [
        "association_rules(frequent_itemsets, metric=\"confidence\", min_threshold=0.05)\n",
        "rules = association_rules(frequent_itemsets, metric=\"lift\", min_threshold=0.05)\n",
        "rules"
      ],
      "execution_count": 27,
      "outputs": [
        {
          "output_type": "execute_result",
          "data": {
            "text/html": [
              "<div>\n",
              "<style scoped>\n",
              "    .dataframe tbody tr th:only-of-type {\n",
              "        vertical-align: middle;\n",
              "    }\n",
              "\n",
              "    .dataframe tbody tr th {\n",
              "        vertical-align: top;\n",
              "    }\n",
              "\n",
              "    .dataframe thead th {\n",
              "        text-align: right;\n",
              "    }\n",
              "</style>\n",
              "<table border=\"1\" class=\"dataframe\">\n",
              "  <thead>\n",
              "    <tr style=\"text-align: right;\">\n",
              "      <th></th>\n",
              "      <th>antecedents</th>\n",
              "      <th>consequents</th>\n",
              "      <th>antecedent support</th>\n",
              "      <th>consequent support</th>\n",
              "      <th>support</th>\n",
              "      <th>confidence</th>\n",
              "      <th>lift</th>\n",
              "      <th>leverage</th>\n",
              "      <th>conviction</th>\n",
              "    </tr>\n",
              "  </thead>\n",
              "  <tbody>\n",
              "    <tr>\n",
              "      <th>0</th>\n",
              "      <td>(Coffe)</td>\n",
              "      <td>(Beef burger)</td>\n",
              "      <td>0.282051</td>\n",
              "      <td>0.371795</td>\n",
              "      <td>0.089744</td>\n",
              "      <td>0.318182</td>\n",
              "      <td>0.855799</td>\n",
              "      <td>-0.015122</td>\n",
              "      <td>0.921368</td>\n",
              "    </tr>\n",
              "    <tr>\n",
              "      <th>1</th>\n",
              "      <td>(Beef burger)</td>\n",
              "      <td>(Coffe)</td>\n",
              "      <td>0.371795</td>\n",
              "      <td>0.282051</td>\n",
              "      <td>0.089744</td>\n",
              "      <td>0.241379</td>\n",
              "      <td>0.855799</td>\n",
              "      <td>-0.015122</td>\n",
              "      <td>0.946387</td>\n",
              "    </tr>\n",
              "    <tr>\n",
              "      <th>2</th>\n",
              "      <td>(Beef burger)</td>\n",
              "      <td>(Coke)</td>\n",
              "      <td>0.371795</td>\n",
              "      <td>0.221154</td>\n",
              "      <td>0.041667</td>\n",
              "      <td>0.112069</td>\n",
              "      <td>0.506747</td>\n",
              "      <td>-0.040557</td>\n",
              "      <td>0.877147</td>\n",
              "    </tr>\n",
              "    <tr>\n",
              "      <th>3</th>\n",
              "      <td>(Coke)</td>\n",
              "      <td>(Beef burger)</td>\n",
              "      <td>0.221154</td>\n",
              "      <td>0.371795</td>\n",
              "      <td>0.041667</td>\n",
              "      <td>0.188406</td>\n",
              "      <td>0.506747</td>\n",
              "      <td>-0.040557</td>\n",
              "      <td>0.774038</td>\n",
              "    </tr>\n",
              "    <tr>\n",
              "      <th>4</th>\n",
              "      <td>(Beef burger)</td>\n",
              "      <td>(Mineral water)</td>\n",
              "      <td>0.371795</td>\n",
              "      <td>0.349359</td>\n",
              "      <td>0.205128</td>\n",
              "      <td>0.551724</td>\n",
              "      <td>1.579247</td>\n",
              "      <td>0.075238</td>\n",
              "      <td>1.451430</td>\n",
              "    </tr>\n",
              "    <tr>\n",
              "      <th>5</th>\n",
              "      <td>(Mineral water)</td>\n",
              "      <td>(Beef burger)</td>\n",
              "      <td>0.349359</td>\n",
              "      <td>0.371795</td>\n",
              "      <td>0.205128</td>\n",
              "      <td>0.587156</td>\n",
              "      <td>1.579247</td>\n",
              "      <td>0.075238</td>\n",
              "      <td>1.521652</td>\n",
              "    </tr>\n",
              "    <tr>\n",
              "      <th>6</th>\n",
              "      <td>(Beef burger)</td>\n",
              "      <td>(None)</td>\n",
              "      <td>0.371795</td>\n",
              "      <td>0.147436</td>\n",
              "      <td>0.035256</td>\n",
              "      <td>0.094828</td>\n",
              "      <td>0.643178</td>\n",
              "      <td>-0.019560</td>\n",
              "      <td>0.941880</td>\n",
              "    </tr>\n",
              "    <tr>\n",
              "      <th>7</th>\n",
              "      <td>(None)</td>\n",
              "      <td>(Beef burger)</td>\n",
              "      <td>0.147436</td>\n",
              "      <td>0.371795</td>\n",
              "      <td>0.035256</td>\n",
              "      <td>0.239130</td>\n",
              "      <td>0.643178</td>\n",
              "      <td>-0.019560</td>\n",
              "      <td>0.825641</td>\n",
              "    </tr>\n",
              "    <tr>\n",
              "      <th>8</th>\n",
              "      <td>(Coke)</td>\n",
              "      <td>(Cheese burger)</td>\n",
              "      <td>0.221154</td>\n",
              "      <td>0.179487</td>\n",
              "      <td>0.179487</td>\n",
              "      <td>0.811594</td>\n",
              "      <td>4.521739</td>\n",
              "      <td>0.139793</td>\n",
              "      <td>4.355030</td>\n",
              "    </tr>\n",
              "    <tr>\n",
              "      <th>9</th>\n",
              "      <td>(Cheese burger)</td>\n",
              "      <td>(Coke)</td>\n",
              "      <td>0.179487</td>\n",
              "      <td>0.221154</td>\n",
              "      <td>0.179487</td>\n",
              "      <td>1.000000</td>\n",
              "      <td>4.521739</td>\n",
              "      <td>0.139793</td>\n",
              "      <td>inf</td>\n",
              "    </tr>\n",
              "    <tr>\n",
              "      <th>10</th>\n",
              "      <td>(Chicken burger)</td>\n",
              "      <td>(Coffe)</td>\n",
              "      <td>0.227564</td>\n",
              "      <td>0.282051</td>\n",
              "      <td>0.115385</td>\n",
              "      <td>0.507042</td>\n",
              "      <td>1.797695</td>\n",
              "      <td>0.051200</td>\n",
              "      <td>1.456410</td>\n",
              "    </tr>\n",
              "    <tr>\n",
              "      <th>11</th>\n",
              "      <td>(Coffe)</td>\n",
              "      <td>(Chicken burger)</td>\n",
              "      <td>0.282051</td>\n",
              "      <td>0.227564</td>\n",
              "      <td>0.115385</td>\n",
              "      <td>0.409091</td>\n",
              "      <td>1.797695</td>\n",
              "      <td>0.051200</td>\n",
              "      <td>1.307199</td>\n",
              "    </tr>\n",
              "    <tr>\n",
              "      <th>12</th>\n",
              "      <td>(Chicken burger)</td>\n",
              "      <td>(None)</td>\n",
              "      <td>0.227564</td>\n",
              "      <td>0.147436</td>\n",
              "      <td>0.112179</td>\n",
              "      <td>0.492958</td>\n",
              "      <td>3.343539</td>\n",
              "      <td>0.078628</td>\n",
              "      <td>1.681446</td>\n",
              "    </tr>\n",
              "    <tr>\n",
              "      <th>13</th>\n",
              "      <td>(None)</td>\n",
              "      <td>(Chicken burger)</td>\n",
              "      <td>0.147436</td>\n",
              "      <td>0.227564</td>\n",
              "      <td>0.112179</td>\n",
              "      <td>0.760870</td>\n",
              "      <td>3.343539</td>\n",
              "      <td>0.078628</td>\n",
              "      <td>3.230186</td>\n",
              "    </tr>\n",
              "    <tr>\n",
              "      <th>14</th>\n",
              "      <td>(Double cheese burger)</td>\n",
              "      <td>(Coffe)</td>\n",
              "      <td>0.221154</td>\n",
              "      <td>0.282051</td>\n",
              "      <td>0.076923</td>\n",
              "      <td>0.347826</td>\n",
              "      <td>1.233202</td>\n",
              "      <td>0.014546</td>\n",
              "      <td>1.100855</td>\n",
              "    </tr>\n",
              "    <tr>\n",
              "      <th>15</th>\n",
              "      <td>(Coffe)</td>\n",
              "      <td>(Double cheese burger)</td>\n",
              "      <td>0.282051</td>\n",
              "      <td>0.221154</td>\n",
              "      <td>0.076923</td>\n",
              "      <td>0.272727</td>\n",
              "      <td>1.233202</td>\n",
              "      <td>0.014546</td>\n",
              "      <td>1.070913</td>\n",
              "    </tr>\n",
              "    <tr>\n",
              "      <th>16</th>\n",
              "      <td>(Double cheese burger)</td>\n",
              "      <td>(Mineral water)</td>\n",
              "      <td>0.221154</td>\n",
              "      <td>0.349359</td>\n",
              "      <td>0.144231</td>\n",
              "      <td>0.652174</td>\n",
              "      <td>1.866773</td>\n",
              "      <td>0.066969</td>\n",
              "      <td>1.870593</td>\n",
              "    </tr>\n",
              "    <tr>\n",
              "      <th>17</th>\n",
              "      <td>(Mineral water)</td>\n",
              "      <td>(Double cheese burger)</td>\n",
              "      <td>0.349359</td>\n",
              "      <td>0.221154</td>\n",
              "      <td>0.144231</td>\n",
              "      <td>0.412844</td>\n",
              "      <td>1.866773</td>\n",
              "      <td>0.066969</td>\n",
              "      <td>1.326472</td>\n",
              "    </tr>\n",
              "  </tbody>\n",
              "</table>\n",
              "</div>"
            ],
            "text/plain": [
              "               antecedents             consequents  ...  leverage  conviction\n",
              "0                  (Coffe)           (Beef burger)  ... -0.015122    0.921368\n",
              "1            (Beef burger)                 (Coffe)  ... -0.015122    0.946387\n",
              "2            (Beef burger)                  (Coke)  ... -0.040557    0.877147\n",
              "3                   (Coke)           (Beef burger)  ... -0.040557    0.774038\n",
              "4            (Beef burger)         (Mineral water)  ...  0.075238    1.451430\n",
              "5          (Mineral water)           (Beef burger)  ...  0.075238    1.521652\n",
              "6            (Beef burger)                  (None)  ... -0.019560    0.941880\n",
              "7                   (None)           (Beef burger)  ... -0.019560    0.825641\n",
              "8                   (Coke)         (Cheese burger)  ...  0.139793    4.355030\n",
              "9          (Cheese burger)                  (Coke)  ...  0.139793         inf\n",
              "10        (Chicken burger)                 (Coffe)  ...  0.051200    1.456410\n",
              "11                 (Coffe)        (Chicken burger)  ...  0.051200    1.307199\n",
              "12        (Chicken burger)                  (None)  ...  0.078628    1.681446\n",
              "13                  (None)        (Chicken burger)  ...  0.078628    3.230186\n",
              "14  (Double cheese burger)                 (Coffe)  ...  0.014546    1.100855\n",
              "15                 (Coffe)  (Double cheese burger)  ...  0.014546    1.070913\n",
              "16  (Double cheese burger)         (Mineral water)  ...  0.066969    1.870593\n",
              "17         (Mineral water)  (Double cheese burger)  ...  0.066969    1.326472\n",
              "\n",
              "[18 rows x 9 columns]"
            ]
          },
          "metadata": {
            "tags": []
          },
          "execution_count": 27
        }
      ]
    },
    {
      "cell_type": "code",
      "metadata": {
        "id": "WTcQUOE8kKPC",
        "colab_type": "code",
        "outputId": "416af7bc-6d1a-4c54-91ef-f22e5e35eb66",
        "colab": {
          "base_uri": "https://localhost:8080/",
          "height": 71
        }
      },
      "source": [
        "oht = OnehotTransactions()\n",
        "oht_ary = oht.fit(data['campur']).transform(data['campur'])\n",
        "data1 = pd.DataFrame(oht_ary, columns=oht.columns_)"
      ],
      "execution_count": 24,
      "outputs": [
        {
          "output_type": "stream",
          "text": [
            "/usr/local/lib/python3.6/dist-packages/mlxtend/preprocessing/onehot.py:66: DeprecationWarning: OnehotTransactions has been deprecated and will be removed in future. Please use TransactionEncoder instead.\n",
            "  warnings.warn(msg, DeprecationWarning)\n"
          ],
          "name": "stderr"
        }
      ]
    },
    {
      "cell_type": "code",
      "metadata": {
        "id": "0ExmO2qai0m0",
        "colab_type": "code",
        "outputId": "a093de0e-63a7-4372-ed80-e61abd6bd1e6",
        "colab": {
          "base_uri": "https://localhost:8080/",
          "height": 204
        }
      },
      "source": [
        "data1.head()"
      ],
      "execution_count": 25,
      "outputs": [
        {
          "output_type": "execute_result",
          "data": {
            "text/html": [
              "<div>\n",
              "<style scoped>\n",
              "    .dataframe tbody tr th:only-of-type {\n",
              "        vertical-align: middle;\n",
              "    }\n",
              "\n",
              "    .dataframe tbody tr th {\n",
              "        vertical-align: top;\n",
              "    }\n",
              "\n",
              "    .dataframe thead th {\n",
              "        text-align: right;\n",
              "    }\n",
              "</style>\n",
              "<table border=\"1\" class=\"dataframe\">\n",
              "  <thead>\n",
              "    <tr style=\"text-align: right;\">\n",
              "      <th></th>\n",
              "      <th>Beef burger</th>\n",
              "      <th>Cheese burger</th>\n",
              "      <th>Chicken burger</th>\n",
              "      <th>Coffe</th>\n",
              "      <th>Coke</th>\n",
              "      <th>Double cheese burger</th>\n",
              "      <th>Mineral water</th>\n",
              "      <th>None</th>\n",
              "    </tr>\n",
              "  </thead>\n",
              "  <tbody>\n",
              "    <tr>\n",
              "      <th>0</th>\n",
              "      <td>True</td>\n",
              "      <td>False</td>\n",
              "      <td>False</td>\n",
              "      <td>False</td>\n",
              "      <td>False</td>\n",
              "      <td>False</td>\n",
              "      <td>True</td>\n",
              "      <td>False</td>\n",
              "    </tr>\n",
              "    <tr>\n",
              "      <th>1</th>\n",
              "      <td>False</td>\n",
              "      <td>True</td>\n",
              "      <td>False</td>\n",
              "      <td>False</td>\n",
              "      <td>True</td>\n",
              "      <td>False</td>\n",
              "      <td>False</td>\n",
              "      <td>False</td>\n",
              "    </tr>\n",
              "    <tr>\n",
              "      <th>2</th>\n",
              "      <td>False</td>\n",
              "      <td>False</td>\n",
              "      <td>False</td>\n",
              "      <td>False</td>\n",
              "      <td>False</td>\n",
              "      <td>True</td>\n",
              "      <td>True</td>\n",
              "      <td>False</td>\n",
              "    </tr>\n",
              "    <tr>\n",
              "      <th>3</th>\n",
              "      <td>False</td>\n",
              "      <td>False</td>\n",
              "      <td>True</td>\n",
              "      <td>True</td>\n",
              "      <td>False</td>\n",
              "      <td>False</td>\n",
              "      <td>False</td>\n",
              "      <td>False</td>\n",
              "    </tr>\n",
              "    <tr>\n",
              "      <th>4</th>\n",
              "      <td>False</td>\n",
              "      <td>True</td>\n",
              "      <td>False</td>\n",
              "      <td>False</td>\n",
              "      <td>True</td>\n",
              "      <td>False</td>\n",
              "      <td>False</td>\n",
              "      <td>False</td>\n",
              "    </tr>\n",
              "  </tbody>\n",
              "</table>\n",
              "</div>"
            ],
            "text/plain": [
              "   Beef burger  Cheese burger  ...  Mineral water   None\n",
              "0         True          False  ...           True  False\n",
              "1        False           True  ...          False  False\n",
              "2        False          False  ...           True  False\n",
              "3        False          False  ...          False  False\n",
              "4        False           True  ...          False  False\n",
              "\n",
              "[5 rows x 8 columns]"
            ]
          },
          "metadata": {
            "tags": []
          },
          "execution_count": 25
        }
      ]
    },
    {
      "cell_type": "code",
      "metadata": {
        "id": "iwSUp-biiBwf",
        "colab_type": "code",
        "outputId": "3315a9be-045c-464c-ff98-3b90ee1a647a",
        "colab": {
          "base_uri": "https://localhost:8080/",
          "height": 576
        }
      },
      "source": [
        "frequent_itemsets = apriori(data1, min_support=0.005, use_colnames=True)\n",
        "frequent_itemsets.sort_values(by='support', ascending =False)"
      ],
      "execution_count": 26,
      "outputs": [
        {
          "output_type": "execute_result",
          "data": {
            "text/html": [
              "<div>\n",
              "<style scoped>\n",
              "    .dataframe tbody tr th:only-of-type {\n",
              "        vertical-align: middle;\n",
              "    }\n",
              "\n",
              "    .dataframe tbody tr th {\n",
              "        vertical-align: top;\n",
              "    }\n",
              "\n",
              "    .dataframe thead th {\n",
              "        text-align: right;\n",
              "    }\n",
              "</style>\n",
              "<table border=\"1\" class=\"dataframe\">\n",
              "  <thead>\n",
              "    <tr style=\"text-align: right;\">\n",
              "      <th></th>\n",
              "      <th>support</th>\n",
              "      <th>itemsets</th>\n",
              "    </tr>\n",
              "  </thead>\n",
              "  <tbody>\n",
              "    <tr>\n",
              "      <th>0</th>\n",
              "      <td>0.371795</td>\n",
              "      <td>(Beef burger)</td>\n",
              "    </tr>\n",
              "    <tr>\n",
              "      <th>6</th>\n",
              "      <td>0.349359</td>\n",
              "      <td>(Mineral water)</td>\n",
              "    </tr>\n",
              "    <tr>\n",
              "      <th>3</th>\n",
              "      <td>0.282051</td>\n",
              "      <td>(Coffe)</td>\n",
              "    </tr>\n",
              "    <tr>\n",
              "      <th>2</th>\n",
              "      <td>0.227564</td>\n",
              "      <td>(Chicken burger)</td>\n",
              "    </tr>\n",
              "    <tr>\n",
              "      <th>4</th>\n",
              "      <td>0.221154</td>\n",
              "      <td>(Coke)</td>\n",
              "    </tr>\n",
              "    <tr>\n",
              "      <th>5</th>\n",
              "      <td>0.221154</td>\n",
              "      <td>(Double cheese burger)</td>\n",
              "    </tr>\n",
              "    <tr>\n",
              "      <th>10</th>\n",
              "      <td>0.205128</td>\n",
              "      <td>(Beef burger, Mineral water)</td>\n",
              "    </tr>\n",
              "    <tr>\n",
              "      <th>1</th>\n",
              "      <td>0.179487</td>\n",
              "      <td>(Cheese burger)</td>\n",
              "    </tr>\n",
              "    <tr>\n",
              "      <th>12</th>\n",
              "      <td>0.179487</td>\n",
              "      <td>(Coke, Cheese burger)</td>\n",
              "    </tr>\n",
              "    <tr>\n",
              "      <th>7</th>\n",
              "      <td>0.147436</td>\n",
              "      <td>(None)</td>\n",
              "    </tr>\n",
              "    <tr>\n",
              "      <th>16</th>\n",
              "      <td>0.144231</td>\n",
              "      <td>(Double cheese burger, Mineral water)</td>\n",
              "    </tr>\n",
              "    <tr>\n",
              "      <th>13</th>\n",
              "      <td>0.115385</td>\n",
              "      <td>(Chicken burger, Coffe)</td>\n",
              "    </tr>\n",
              "    <tr>\n",
              "      <th>14</th>\n",
              "      <td>0.112179</td>\n",
              "      <td>(Chicken burger, None)</td>\n",
              "    </tr>\n",
              "    <tr>\n",
              "      <th>8</th>\n",
              "      <td>0.089744</td>\n",
              "      <td>(Coffe, Beef burger)</td>\n",
              "    </tr>\n",
              "    <tr>\n",
              "      <th>15</th>\n",
              "      <td>0.076923</td>\n",
              "      <td>(Double cheese burger, Coffe)</td>\n",
              "    </tr>\n",
              "    <tr>\n",
              "      <th>9</th>\n",
              "      <td>0.041667</td>\n",
              "      <td>(Beef burger, Coke)</td>\n",
              "    </tr>\n",
              "    <tr>\n",
              "      <th>11</th>\n",
              "      <td>0.035256</td>\n",
              "      <td>(Beef burger, None)</td>\n",
              "    </tr>\n",
              "  </tbody>\n",
              "</table>\n",
              "</div>"
            ],
            "text/plain": [
              "     support                               itemsets\n",
              "0   0.371795                          (Beef burger)\n",
              "6   0.349359                        (Mineral water)\n",
              "3   0.282051                                (Coffe)\n",
              "2   0.227564                       (Chicken burger)\n",
              "4   0.221154                                 (Coke)\n",
              "5   0.221154                 (Double cheese burger)\n",
              "10  0.205128           (Beef burger, Mineral water)\n",
              "1   0.179487                        (Cheese burger)\n",
              "12  0.179487                  (Coke, Cheese burger)\n",
              "7   0.147436                                 (None)\n",
              "16  0.144231  (Double cheese burger, Mineral water)\n",
              "13  0.115385                (Chicken burger, Coffe)\n",
              "14  0.112179                 (Chicken burger, None)\n",
              "8   0.089744                   (Coffe, Beef burger)\n",
              "15  0.076923          (Double cheese burger, Coffe)\n",
              "9   0.041667                    (Beef burger, Coke)\n",
              "11  0.035256                    (Beef burger, None)"
            ]
          },
          "metadata": {
            "tags": []
          },
          "execution_count": 26
        }
      ]
    },
    {
      "cell_type": "markdown",
      "metadata": {
        "id": "nMozmFg2Jkmh",
        "colab_type": "text"
      },
      "source": [
        "# **Modelling: Classification using K-Means (Test)**"
      ]
    },
    {
      "cell_type": "code",
      "metadata": {
        "id": "VSDnsiCJJzIM",
        "colab_type": "code",
        "outputId": "2952df21-4d14-4154-fd88-102e483b82cb",
        "colab": {
          "base_uri": "https://localhost:8080/",
          "height": 286
        }
      },
      "source": [
        "# Getting the values and plotting it\n",
        "f1 = data['Amount Drink'].values\n",
        "f2 = data['Amount Burger'].values\n",
        "X = np.array(list(zip(f1, f2)))\n",
        "plt.scatter(f1, f2, c='black', s=7)"
      ],
      "execution_count": 36,
      "outputs": [
        {
          "output_type": "execute_result",
          "data": {
            "text/plain": [
              "<matplotlib.collections.PathCollection at 0x7f9636fa2978>"
            ]
          },
          "metadata": {
            "tags": []
          },
          "execution_count": 36
        },
        {
          "output_type": "display_data",
          "data": {
            "image/png": "[encoded data removed]",
            "text/plain": [
              "<Figure size 432x288 with 1 Axes>"
            ]
          },
          "metadata": {
            "tags": []
          }
        }
      ]
    },
    {
      "cell_type": "code",
      "metadata": {
        "id": "AK36FLDCKw6i",
        "colab_type": "code",
        "colab": {}
      },
      "source": [
        "# Euclidean Distance Caculator\n",
        "def dist(a, b, ax=1):\n",
        "    return np.linalg.norm(a - b, axis=ax)"
      ],
      "execution_count": 0,
      "outputs": []
    },
    {
      "cell_type": "code",
      "metadata": {
        "id": "SkxndejiKfG5",
        "colab_type": "code",
        "outputId": "c132cbb7-0c6f-415d-cb1e-5e73f2250768",
        "colab": {
          "base_uri": "https://localhost:8080/",
          "height": 68
        }
      },
      "source": [
        "k = 3\n",
        "# X coordinates of random centroids\n",
        "C_x = np.random.randint(0, np.max(X), size=k)\n",
        "# Y coordinates of random centroids\n",
        "C_y = np.random.randint(0, np.max(X), size=k)\n",
        "C = np.array(list(zip(C_x, C_y)), dtype=np.float32)\n",
        "print(C)"
      ],
      "execution_count": 54,
      "outputs": [
        {
          "output_type": "stream",
          "text": [
            "[[ 2. 11.]\n",
            " [ 8.  6.]\n",
            " [ 2.  4.]]\n"
          ],
          "name": "stdout"
        }
      ]
    },
    {
      "cell_type": "code",
      "metadata": {
        "id": "cWWYc9QKK0T6",
        "colab_type": "code",
        "outputId": "e7494433-064e-48e9-d19a-6a452b309690",
        "colab": {
          "base_uri": "https://localhost:8080/",
          "height": 286
        }
      },
      "source": [
        "# Plotting along with the Centroids\n",
        "plt.scatter(f1, f2, c='#050505', s=7)\n",
        "plt.scatter(C_x, C_y, marker='*', s=200, c='g')"
      ],
      "execution_count": 55,
      "outputs": [
        {
          "output_type": "execute_result",
          "data": {
            "text/plain": [
              "<matplotlib.collections.PathCollection at 0x7f9636b50358>"
            ]
          },
          "metadata": {
            "tags": []
          },
          "execution_count": 55
        },
        {
          "output_type": "display_data",
          "data": {
            "image/png": "[encoded data removed]",
            "text/plain": [
              "<Figure size 432x288 with 1 Axes>"
            ]
          },
          "metadata": {
            "tags": []
          }
        }
      ]
    },
    {
      "cell_type": "code",
      "metadata": {
        "id": "6ncG321SK9Go",
        "colab_type": "code",
        "colab": {}
      },
      "source": [
        "# To store the value of centroids when it updates\n",
        "C_old = np.zeros(C.shape)\n",
        "# Cluster Lables(0, 1, 2)\n",
        "clusters = np.zeros(len(X))\n",
        "# Error func. - Distance between new centroids and old centroids\n",
        "error = dist(C, C_old, None)\n",
        "# Loop will run till the error becomes zero\n",
        "while error != 0:\n",
        "    # Assigning each value to its closest cluster\n",
        "    for i in range(len(X)):\n",
        "        distances = dist(X[i], C)\n",
        "        cluster = np.argmin(distances)\n",
        "        clusters[i] = cluster\n",
        "    # Storing the old centroid values\n",
        "    C_old = deepcopy(C)\n",
        "    # Finding the new centroids by taking the average value\n",
        "    for i in range(k):\n",
        "        points = [X[j] for j in range(len(X)) if clusters[j] == i]\n",
        "        C[i] = np.mean(points, axis=0)\n",
        "    error = dist(C, C_old, None)"
      ],
      "execution_count": 0,
      "outputs": []
    },
    {
      "cell_type": "code",
      "metadata": {
        "id": "OotRr_6pLr1A",
        "colab_type": "code",
        "outputId": "a9f92f25-abaf-4483-88e1-7c2fab2923bc",
        "colab": {
          "base_uri": "https://localhost:8080/",
          "height": 286
        }
      },
      "source": [
        "colors = ['r', 'g', 'b', 'y', 'c', 'm']\n",
        "fig, ax = plt.subplots()\n",
        "for i in range(k):\n",
        "        points = np.array([X[j] for j in range(len(X)) if clusters[j] == i])\n",
        "        ax.scatter(points[:, 0], points[:, 1], s=7, c=colors[i])\n",
        "ax.scatter(C[:, 0], C[:, 1], marker='*', s=200, c='#050505')"
      ],
      "execution_count": 57,
      "outputs": [
        {
          "output_type": "execute_result",
          "data": {
            "text/plain": [
              "<matplotlib.collections.PathCollection at 0x7f9636abc438>"
            ]
          },
          "metadata": {
            "tags": []
          },
          "execution_count": 57
        },
        {
          "output_type": "display_data",
          "data": {
            "image/png": "[encoded data removed]",
            "text/plain": [
              "<Figure size 432x288 with 1 Axes>"
            ]
          },
          "metadata": {
            "tags": []
          }
        }
      ]
    }
  ]
}